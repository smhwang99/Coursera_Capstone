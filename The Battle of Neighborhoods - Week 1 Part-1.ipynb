{
 "cells": [
  {
   "cell_type": "markdown",
   "metadata": {},
   "source": [
    "## The Battle of the Neighborhoods - Week 1"
   ]
  },
  {
   "cell_type": "markdown",
   "metadata": {},
   "source": [
    "### Introduction & Business Problem :"
   ]
  },
  {
   "cell_type": "markdown",
   "metadata": {},
   "source": [
    "#### Problem Background:"
   ]
  },
  {
   "cell_type": "markdown",
   "metadata": {},
   "source": [
    "Home Away From Home[1]\n",
    "\n",
    "When there is a need, whether from job, career or needs for long vacation break, you might need to travel and live in a different city for either a short or longer period of time. If you are the type of person that enjoy staying at similar neighborhood as the one you are currently living in to make yourself comfortable - a feeling of stay at home away from home. You will want to find a living place in the visitng city that has as similar neighborhood as where you are currently living in. \n",
    "\n"
   ]
  },
  {
   "cell_type": "markdown",
   "metadata": {},
   "source": [
    "[1]: Title of Lesson 1 in book \"Best Lessons of a Chess Coach\" by Sunil Weeramantry and Ed Ebusebi, 1993"
   ]
  },
  {
   "cell_type": "markdown",
   "metadata": {},
   "source": [
    "#### Problem Description:"
   ]
  },
  {
   "cell_type": "markdown",
   "metadata": {},
   "source": [
    "The problem is that prior to visiting the city, how do you find out which neighborhood of the visiting city to stay that has similar neighborhood as where you are currently living in?\n",
    "\n",
    "As an example, if you are living in Cupertino, California and plan to stay at New York city for one year. Which neighborhood in New York City should you choose to stay to experience similar neighborhood as Cupertino?\n",
    "\n",
    "For this project, we will limit our scope of visiting city to New York city and your home city can be any city in the US. The tool developed could be further expanded to other visiting city and any home city in the world with the methodology adopted in this project. \n",
    "\n",
    "Details of what metric has been used to measure \"Neighborhood Similarity\" and what assumptions have been made to select this metric will be described week 2 submission."
   ]
  },
  {
   "cell_type": "markdown",
   "metadata": {},
   "source": [
    "#### Target Audience:"
   ]
  },
  {
   "cell_type": "markdown",
   "metadata": {},
   "source": [
    "Those travelers who want to feel \"Home away from Home\" during visit to other cities."
   ]
  },
  {
   "cell_type": "markdown",
   "metadata": {},
   "source": [
    "#### Success Criteria:"
   ]
  },
  {
   "cell_type": "markdown",
   "metadata": {},
   "source": [
    "The success criteria of the project will be a good recommendation of borough/Neighborhood choice to traveler based on neighborhood similarity between your home city and New York city."
   ]
  },
  {
   "cell_type": "code",
   "execution_count": null,
   "metadata": {},
   "outputs": [],
   "source": []
  }
 ],
 "metadata": {
  "kernelspec": {
   "display_name": "Python 3",
   "language": "python",
   "name": "python3"
  },
  "language_info": {
   "codemirror_mode": {
    "name": "ipython",
    "version": 3
   },
   "file_extension": ".py",
   "mimetype": "text/x-python",
   "name": "python",
   "nbconvert_exporter": "python",
   "pygments_lexer": "ipython3",
   "version": "3.6.5"
  }
 },
 "nbformat": 4,
 "nbformat_minor": 2
}
